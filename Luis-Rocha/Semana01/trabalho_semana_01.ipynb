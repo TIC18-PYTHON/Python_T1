{
 "cells": [
  {
   "cell_type": "markdown",
   "id": "73d16faf",
   "metadata": {},
   "source": [
    "**PP - PROGRAMAÇÃO EM PYTHON - INSTRUÇÃO PRÁTICA PP-P001**\n",
    "\n",
    "\n",
    "- Adquirir o domínio dos conceitos de variáveis e tipos de dados básicos da linguagem, assim como dos operadores\n",
    "disponíveis;\n",
    "\n",
    "- Entender o conceito de variáveis mutáveis e imutáveis e suas implicações;\n",
    "\n",
    "- Dominar as características básicas dos tipos de dados avançados: Listas e Tuplas.\n"
   ]
  },
  {
   "cell_type": "markdown",
   "id": "1735cce2",
   "metadata": {},
   "source": [
    "**Exercício 2**: Manipulação de variáveis de tipo inteiro, explorando as características\n",
    "e os limites.\n",
    "\n",
    "Durante a aula foi apresentado o tipo de dado que permite representar um\n",
    "subconjunto dos números inteiros. Sobre estes tipos de dados:\n",
    "\n",
    "Demonstre como funcionam os operadores aritméticos e aritméticos\n",
    "compostos em Python e destaque as principais novidades e diferenças\n",
    "em relação ao conjunto de operadores com inteiros disponíveis em\n",
    "`C/C++` ;\n",
    "\n",
    "Residência em Tecnologia da Informação e Comunicação\n",
    "\n",
    "Demonstre a possibilidade de representar números inteiros\n",
    "significativamente grandes calculando o fatorial de 30 e comparando\n",
    "o resultado com o maior valor inteiro que pode ser representado em\n",
    "`C/C++`;\n",
    "\n",
    "As variáveis numéricas são imutáveis. Demonstre com exemplos as\n",
    "implicações desta afirmação;\n",
    "\n"
   ]
  },
  {
   "cell_type": "markdown",
   "id": "ba1d4f11",
   "metadata": {},
   "source": [
    "**Verifique quais métodos estão disponíveis para as variáveis inteiras**\n"
   ]
  },
  {
   "cell_type": "markdown",
   "id": "5316e5bc",
   "metadata": {},
   "source": [
    "**bit_length():** Retorna o número de bits necessários para representar o número, excluindo o sinal e os zeros à esquerda."
   ]
  },
  {
   "cell_type": "code",
   "execution_count": 2,
   "id": "7802dbd1",
   "metadata": {},
   "outputs": [
    {
     "name": "stdout",
     "output_type": "stream",
     "text": [
      "6\n"
     ]
    }
   ],
   "source": [
    "num = 42\n",
    "print(num.bit_length())  # Saída: 6\n"
   ]
  },
  {
   "cell_type": "markdown",
   "id": "9178f85c",
   "metadata": {},
   "source": [
    "**__add__(self, other), __sub__(self, other), __mul__(self, other), __truediv__(self, other):** Sobrecarga de operadores para adição, subtração, multiplicação e divisão."
   ]
  },
  {
   "cell_type": "code",
   "execution_count": 3,
   "id": "916be1b7",
   "metadata": {},
   "outputs": [],
   "source": [
    "num1 = 10\n",
    "num2 = 5\n",
    "addition = num1.__add__(num2)  # Ou simplesmente: addition = num1 + num2\n",
    "subtraction = num1.__sub__(num2)  # Ou simplesmente: subtraction = num1 - num2\n",
    "multiplication = num1.__mul__(num2)  # Ou simplesmente: multiplication = num1 * num2\n",
    "division = num1.__truediv__(num2)  # Ou simplesmente: division = num1 / num2\n"
   ]
  },
  {
   "cell_type": "markdown",
   "id": "481c2d78",
   "metadata": {},
   "source": [
    "**__mod__(self, other):** Retorna o resto da divisão entre dois números."
   ]
  },
  {
   "cell_type": "code",
   "execution_count": 5,
   "id": "7f7242e3",
   "metadata": {},
   "outputs": [],
   "source": [
    "num1 = 10\n",
    "num2 = 3\n",
    "remainder = num1.__mod__(num2)  # Ou simplesmente: remainder = num1 % num2\n"
   ]
  },
  {
   "cell_type": "markdown",
   "id": "f7f97a61",
   "metadata": {},
   "source": [
    "**__pow__(self, exponent[, modulus]):** Eleva o número a uma potência (com um módulo, se fornecido)."
   ]
  },
  {
   "cell_type": "code",
   "execution_count": 6,
   "id": "2ae09466",
   "metadata": {},
   "outputs": [],
   "source": [
    "num = 2\n",
    "exponent = 3\n",
    "result = num.__pow__(exponent)  # Ou simplesmente: result = num ** exponent\n"
   ]
  },
  {
   "cell_type": "markdown",
   "id": "0d5e7652",
   "metadata": {},
   "source": [
    "**Em Python, temos um tipo de dado chamado `\"int\"` que representa números inteiros. Ele pode armazenar uma gama de números inteiros, mas não todos. Agora, vamos olhar para os operadores aritméticos e compostos.**"
   ]
  },
  {
   "cell_type": "markdown",
   "id": "9bd870ed",
   "metadata": {},
   "source": [
    "\n",
    "\n",
    "**Operadores Aritméticos**: Em Python, os operadores `(+)` de adição,` (-)` de subtração, `(*)` de multiplicação e `(/)` de divisão funcionam da mesma forma que em `C/C++`. Por exemplo:"
   ]
  },
  {
   "cell_type": "code",
   "execution_count": 6,
   "id": "ab6292a8",
   "metadata": {},
   "outputs": [],
   "source": [
    "a = 10\n",
    "b = 5\n",
    "soma = a + b  # Resultado: 15\n",
    "subtracao = a - b  # Resultado: 5\n",
    "multiplicacao = a * b  # Resultado: 50\n",
    "divisao = a / b  # Resultado: 2.0 (em Python 3, sempre retorna um float)\n"
   ]
  },
  {
   "cell_type": "markdown",
   "id": "bbfa6a54",
   "metadata": {},
   "source": [
    "**Operadores Compostos:** Python também suporta operadores compostos como `+=` `-=` `*=` `/=` para simplificar operações. Eles funcionam de maneira semelhante ao `C/C++`:"
   ]
  },
  {
   "cell_type": "code",
   "execution_count": 4,
   "id": "c15e9efb",
   "metadata": {},
   "outputs": [],
   "source": [
    "c = 8\n",
    "c += 3  # Equivalente a c = c + 3 (c agora é 11)\n"
   ]
  },
  {
   "cell_type": "markdown",
   "id": "a78e2ea9",
   "metadata": {},
   "source": [
    "A principal diferença em **Python** é que os inteiros não têm um limite fixo de tamanho como em `C/C++`. Em `C/C++`, o maior inteiro depende do sistema (geralmente é `INT_MAX` ou `LONG_MAX`), enquanto em Python, os inteiros podem ser tão grandes quanto a memória disponível permitir. Por exemplo, em Python, podemos calcular o fatorial de 30:"
   ]
  },
  {
   "cell_type": "code",
   "execution_count": 2,
   "id": "35007a5e",
   "metadata": {},
   "outputs": [
    {
     "name": "stdout",
     "output_type": "stream",
     "text": [
      "Fatorial de 30: 265252859812191058636308480000000\n"
     ]
    }
   ],
   "source": [
    "fatorial_30 = 1\n",
    "for i in range(1, 31):\n",
    "    fatorial_30 *= i\n",
    "\n",
    "print(f\"Fatorial de 30: {fatorial_30}\")\n"
   ]
  },
  {
   "cell_type": "markdown",
   "id": "f9e824d2",
   "metadata": {},
   "source": [
    "Para as variáveis numéricas em **Python**, quando atribuímos um novo valor a uma variável, isso cria um novo objeto na memória. Isso significa que as variáveis numéricas em Python são imutáveis. **Por exemplo:**"
   ]
  },
  {
   "cell_type": "code",
   "execution_count": 1,
   "id": "f7e9a726",
   "metadata": {},
   "outputs": [],
   "source": [
    "x = 5\n",
    "x += 3  # Isso cria um novo objeto, x não é modificado, mas agora aponta para o novo valor 8\n"
   ]
  },
  {
   "cell_type": "markdown",
   "id": "7e2cfb77",
   "metadata": {},
   "source": [
    "**Exercício 3: Manipulação de variáveis de tipo string e explorando o uso de print.**\n",
    "\n",
    "Os caracteres numéricos aparecem na tabela **ASCII**, e em outras, numa\n",
    "sequência que começa pelo caractere **‘0’** até o caractere **‘9’**. As strings em\n",
    "Python são formadas por conjuntos de caracteres que podem ser tratadas\n",
    "também como valores numéricos. Com base nestas afirmações desenvolva\n",
    "um programa em **Python** que:\n",
    "\n",
    "Imprima na tela, utilizando print, cada um dos caracteres numéricos e\n",
    "seu correspondente código numérico. Pesquise como modificar o\n",
    "comportamento do print para imprimir como caractere e como\n",
    "número.\n",
    "Exemplo:`‘0’ - 48\n",
    "‘1’ - 49\n",
    "…\n",
    "‘9’ - 57`\n",
    "\n",
    "Modifique o exercício anterior para que a saída imprima também o\n",
    "código numérico em octal e em hexadecimal.\n",
    "\n",
    "Acrescente ao código do exercício anterior a possibilidade de ler um\n",
    "caractere qualquer e imprima no mesmo formato do inciso anterior.\n",
    "Pesquise como ler um valor da entrada padrão.\n",
    "\n",
    "Pesquise como trabalha Python os caracteres especiais, `‘ç’` e `‘ã’`\n",
    "por exemplo. Acrescente no código do exercício anterior um exemplo\n",
    "que demonstra como usar este recurso."
   ]
  },
  {
   "cell_type": "code",
   "execution_count": 7,
   "id": "ecdb7a89",
   "metadata": {},
   "outputs": [
    {
     "name": "stdout",
     "output_type": "stream",
     "text": [
      "0 - 48 - 0o60 - 0x30\n",
      "1 - 49 - 0o61 - 0x31\n",
      "2 - 50 - 0o62 - 0x32\n",
      "3 - 51 - 0o63 - 0x33\n",
      "4 - 52 - 0o64 - 0x34\n",
      "5 - 53 - 0o65 - 0x35\n",
      "6 - 54 - 0o66 - 0x36\n",
      "7 - 55 - 0o67 - 0x37\n",
      "8 - 56 - 0o70 - 0x38\n",
      "9 - 57 - 0o71 - 0x39\n",
      "Digite um caractere: f\n",
      "f - 102 - 0o146 - 0x66\n",
      "ç - 231 - 0o347 - 0xe7\n",
      "ã - 227 - 0o343 - 0xe3\n"
     ]
    }
   ],
   "source": [
    "# Imprimir caracteres numéricos e seus códigos numéricos\n",
    "numeric_chars = ['0', '1', '2', '3', '4', '5', '6', '7', '8', '9']\n",
    "for char in numeric_chars:\n",
    "    print(f\"{char} - {ord(char)} - {oct(ord(char))} - {hex(ord(char))}\")\n",
    "\n",
    "# Ler um caractere digitado pelo usuário\n",
    "user_char = input(\"Digite um caractere: \")\n",
    "print(f\"{user_char} - {ord(user_char)} - {oct(ord(user_char))} - {hex(ord(user_char))}\")\n",
    "\n",
    "# Exemplo de caracteres especiais\n",
    "special_chars = ['ç', 'ã']\n",
    "for char in special_chars:\n",
    "    print(f\"{char} - {ord(char)} - {oct(ord(char))} - {hex(ord(char))}\")"
   ]
  },
  {
   "cell_type": "markdown",
   "id": "229b72b1",
   "metadata": {},
   "source": [
    "**Exercício 4: Manipulação de variáveis de tipo string e explorando os métodos da classe.**\n",
    "\n",
    "As variáveis de tipo string possuem uma série de funcionalidades já\n",
    "implementadas e seus caracteres e substrings podem ser acessados usando\n",
    "indexação e slicing. Crie um exemplo onde:\n",
    "\n",
    "Declare uma variável nome atribuindo a ela seu nome completo;\n",
    "\n",
    "Pesquise por funcionalidades já implementadas nas strings e separe\n",
    "em duas variáveis novas seu nome do seu sobrenome;\n",
    "\n",
    "Verifique qual das duas novas variáveis antecede a outra na ordem\n",
    "alfabética;\n",
    "\n",
    "Verifique a quantidade de caracteres de cada uma das novas variáveis;\n",
    "\n",
    "Verifique se seu nome é uma palíndromo;"
   ]
  },
  {
   "cell_type": "code",
   "execution_count": 9,
   "id": "fb39af8a",
   "metadata": {},
   "outputs": [
    {
     "name": "stdout",
     "output_type": "stream",
     "text": [
      "Eduardo Barbosa Soares Rocha antecede Luis na ordem alfabética.\n",
      "Quantidade de caracteres do primeiro nome: 4\n",
      "Quantidade de caracteres do sobrenome: 28\n",
      "Luis não é um palíndromo.\n"
     ]
    }
   ],
   "source": [
    "# Declare a variável nome atribuindo a ela seu nome completo\n",
    "nome = \"Luis Eduardo Barbosa Soares Rocha\"\n",
    "\n",
    "# Use a função split() para separar o nome do sobrenome\n",
    "partes_nome = nome.split()\n",
    "if len(partes_nome) >= 2:  # Verifica se existem pelo menos duas partes\n",
    "    primeiro_nome = partes_nome[0]\n",
    "    sobrenome = ' '.join(partes_nome[1:])  # Reúne o restante como sobrenome\n",
    "\n",
    "    # Verifique qual das duas novas variáveis antecede a outra na ordem alfabética\n",
    "    if primeiro_nome < sobrenome:\n",
    "        print(f\"{primeiro_nome} antecede {sobrenome} na ordem alfabética.\")\n",
    "    else:\n",
    "        print(f\"{sobrenome} antecede {primeiro_nome} na ordem alfabética.\")\n",
    "\n",
    "    # Use a função len() para obter a quantidade de caracteres de cada uma das novas variáveis\n",
    "    quantidade_caracteres_primeiro_nome = len(primeiro_nome)\n",
    "    quantidade_caracteres_sobrenome = len(sobrenome)\n",
    "\n",
    "    print(f\"Quantidade de caracteres do primeiro nome: {quantidade_caracteres_primeiro_nome}\")\n",
    "    print(f\"Quantidade de caracteres do sobrenome: {quantidade_caracteres_sobrenome}\")\n",
    "\n",
    "    # Verifique se o primeiro_nome é um palíndromo\n",
    "    if primeiro_nome == primeiro_nome[::-1]:\n",
    "        print(f\"{primeiro_nome} é um palíndromo.\")\n",
    "    else:\n",
    "        print(f\"{primeiro_nome} não é um palíndromo.\")\n",
    "else:\n",
    "    print(\"Insira um nome completo contendo pelo menos um espaço para separar o nome do sobrenome.\")\n"
   ]
  },
  {
   "cell_type": "markdown",
   "id": "df041296",
   "metadata": {},
   "source": [
    "**Exercício 5: Manipulação de variáveis de ponto flutuante, explorando as características e os limites.**\n",
    "\n",
    "Durante a aula foi apresentado o tipo de dado que permite representar um\n",
    "subconjunto dos números de ponto flutuante. Sobre estes tipos de dados:\n",
    "\n",
    "Demonstre como funcionam os operadores aritméticos e aritméticos\n",
    "compostos em Python;\n",
    "\n",
    "Utilizando o operador de exponenciação mostre qual a maior e a\n",
    "menor potência de 2 que pode ser representada com variáveis de\n",
    "ponto flutuante.\n",
    "\n",
    "As variáveis numéricas são imutáveis. Demonstre com exemplos as\n",
    "implicações desta afirmação;\n",
    "\n",
    "Verifique quais métodos estão disponíveis para as variáveis de ponto\n",
    "flutuante;\n"
   ]
  },
  {
   "cell_type": "markdown",
   "id": "a90eb4cb",
   "metadata": {},
   "source": [
    "**Operadores Aritméticos:** Temos os operadores usuais como `(+)` de adição, `(-)` de subtração, `(*)` de multiplicação e `(/)` de divisão."
   ]
  },
  {
   "cell_type": "code",
   "execution_count": 22,
   "id": "fe91a77c",
   "metadata": {},
   "outputs": [
    {
     "name": "stdout",
     "output_type": "stream",
     "text": [
      "Soma: 5.5 Subtracão: 1.5 Multiplicacão: 7.0 Divisão: 1.75\n"
     ]
    }
   ],
   "source": [
    "a = 3.5\n",
    "b = 2.0\n",
    "\n",
    "soma = a + b  # Resultado: 5.5\n",
    "subtracao = a - b  # Resultado: 1.5\n",
    "multiplicacao = a * b  # Resultado: 7.0\n",
    "divisao = a / b  # Resultado: 1.75\n",
    "\n",
    "print(\"Soma:\",soma,\"Subtracão:\",subtracao,\"Multiplicacão:\",multiplicacao,\"Divisão:\",divisao)\n"
   ]
  },
  {
   "cell_type": "markdown",
   "id": "a43dd4ed",
   "metadata": {},
   "source": [
    "**Operadores Aritméticos Compostos:**\n",
    "\n",
    "- Adição Composta `(+=)`: Incrementa o valor da variável pelo valor fornecido.\n",
    "- Subtração Composta `(-=)`: Subtrai o valor fornecido do valor da variável.\n",
    "- Multiplicação Composta `(*=)`: Multiplica o valor da variável pelo valor fornecido.\n",
    "- Divisão Composta `(/=)`: Divide o valor da variável pelo valor fornecido."
   ]
  },
  {
   "cell_type": "code",
   "execution_count": 23,
   "id": "b29a2728",
   "metadata": {},
   "outputs": [],
   "source": [
    "# Operadores aritméticos compostos\n",
    "c = 8\n",
    "\n",
    "c += 3  # Equivalente a c = c + 3 (c agora é 11)\n",
    "c -= 2  # Equivalente a c = c - 2 (c agora é 9)\n",
    "c *= 4  # Equivalente a c = c * 4 (c agora é 36)\n",
    "c /= 6  # Equivalente a c = c / 6 (c agora é 6.0)\n"
   ]
  },
  {
   "cell_type": "markdown",
   "id": "5307e611",
   "metadata": {},
   "source": [
    "**Utilizando o operador de exponenciação mostre qual a maior e a menor potência de 2 que pode ser representada com variáveis de ponto `flutuante`.**"
   ]
  },
  {
   "cell_type": "code",
   "execution_count": 24,
   "id": "04d66526",
   "metadata": {},
   "outputs": [
    {
     "name": "stdout",
     "output_type": "stream",
     "text": [
      "Maior potência de 2: 8.98846567431158e+307\n",
      "Menor potência de 2: 2.2250738585072014e-308\n"
     ]
    }
   ],
   "source": [
    "maior_potencia_de_2 = 2.0 ** 1023  # Maior potência de 2 representável\n",
    "menor_potencia_de_2 = 2.0 ** -1022  # Menor potência de 2 representável\n",
    "\n",
    "print(f\"Maior potência de 2: {maior_potencia_de_2}\")\n",
    "print(f\"Menor potência de 2: {menor_potencia_de_2}\")\n"
   ]
  },
  {
   "cell_type": "markdown",
   "id": "076e891d",
   "metadata": {},
   "source": [
    "**As variáveis numéricas são imutáveis. Demonstre com exemplos as\n",
    "implicações desta afirmação**\n"
   ]
  },
  {
   "cell_type": "code",
   "execution_count": 25,
   "id": "7d2184aa",
   "metadata": {},
   "outputs": [
    {
     "name": "stdout",
     "output_type": "stream",
     "text": [
      "x depois da operação: 8\n",
      "y: 5\n"
     ]
    }
   ],
   "source": [
    "x = 5\n",
    "y = x  # Criando uma nova variável y com o valor de x\n",
    "\n",
    "x += 3  # Modificando x\n",
    "print(f\"x depois da operação: {x}\")  # Resultado: x depois da operação: 8\n",
    "print(f\"y: {y}\")  # Resultado: y: 5 (y mantém o valor original de x)\n"
   ]
  },
  {
   "cell_type": "markdown",
   "id": "d45d6a5f",
   "metadata": {},
   "source": [
    "**Verifique quais métodos estão disponíveis para as variáveis de ponto\n",
    "flutuante.**\n"
   ]
  },
  {
   "cell_type": "markdown",
   "id": "442e546b",
   "metadata": {},
   "source": [
    "- `as_integer_ratio()`**: Retorna a representação do número como uma fração.**\n",
    "\n",
    "- `is_integer()`**: Verifica se o número é um inteiro.**\n",
    "\n",
    "- `hex()`**: Retorna a representação hexadecimal do número.**\n",
    "\n",
    "- `fromhex()`**: Método de classe que cria um float a partir de uma string hexadecimal.**\n"
   ]
  },
  {
   "attachments": {
    "image.png": {
     "image/png": "[encoded data removed]"
    }
   },
   "cell_type": "markdown",
   "id": "7975e6a2",
   "metadata": {},
   "source": [
    "**Exercício 6: Manipulando listas\n",
    "Dado o seguinte código, e antes de implementar, veja o que será impresso em cada caso**\n",
    "\n",
    "```python\n",
    "L = [1,2,3,4,5,6,7,8,9]\n",
    "\n",
    "print(L[::-1])\n",
    "print(L[::-1])\n",
    "print(L[::-1])\n",
    "print(L[::-2])\n",
    "print(L[::-2])\n",
    "print(L[::-2])\n",
    "```\n",
    "- Uma forma simplificada de determinar o seu animal no zodiaco chines é apresentada na seguinte tabela\n",
    "\n",
    "![image.png](attachment:image.png)\n",
    "\n",
    "- Descubra qual o signo de um usuário de acordo com seu ano de nascimento."
   ]
  },
  {
   "cell_type": "code",
   "execution_count": 28,
   "id": "13c0c35c",
   "metadata": {},
   "outputs": [
    {
     "name": "stdout",
     "output_type": "stream",
     "text": [
      "Digite o ano de nascimento: 1994\n",
      "Seu signo é Cão\n"
     ]
    }
   ],
   "source": [
    "def determinar_signo(ano_de_nascimento):\n",
    "    signos = ['Macaco', 'Galo', 'Cão', 'Porco', 'Rato', 'Boi', 'Tigre', 'Coelho', 'Dragão', 'Serpente', 'Cavalo', 'Carneiro']\n",
    "    signo_index = ano_de_nascimento % 12\n",
    "    return signos[signo_index]\n",
    "\n",
    "ano_de_nascimento = int(input(\"Digite o ano de nascimento: \"))\n",
    "print(\"Seu signo é\", determinar_signo(ano_de_nascimento))\n"
   ]
  },
  {
   "cell_type": "code",
   "execution_count": null,
   "id": "59a51329",
   "metadata": {},
   "outputs": [],
   "source": []
  }
 ],
 "metadata": {
  "kernelspec": {
   "display_name": "Python 3 (ipykernel)",
   "language": "python",
   "name": "python3"
  },
  "language_info": {
   "codemirror_mode": {
    "name": "ipython",
    "version": 3
   },
   "file_extension": ".py",
   "mimetype": "text/x-python",
   "name": "python",
   "nbconvert_exporter": "python",
   "pygments_lexer": "ipython3",
   "version": "3.11.5"
  }
 },
 "nbformat": 4,
 "nbformat_minor": 5
}
