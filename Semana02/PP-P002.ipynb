{
 "cells": [
  {
   "cell_type": "markdown",
   "metadata": {},
   "source": [
    "PP - PROGRAMAÇÃO EM PYTHON - PP-P002\n",
    "\n",
    "\n",
    "\n",
    "1. Exercício 1"
   ]
  },
  {
   "cell_type": "code",
   "execution_count": 1,
   "metadata": {},
   "outputs": [
    {
     "name": "stdout",
     "output_type": "stream",
     "text": [
      "Tarefa registrada!!!\n",
      "Tarefa registrada!!!\n",
      "Tarefa registrada!!!\n",
      "Lista de Tarefas:\n",
      "1. Preparar a marmita [ ]\n",
      "2. Arrumar a mochila [ ]\n",
      "3. Fechar as janelas [ ]\n",
      "Tarefa marcada como realizada.\n",
      "Lista de Tarefas:\n",
      "2. Arrumar a mochila [x]\n",
      "1. Preparar a marmita [ ]\n",
      "3. Fechar as janelas [ ]\n",
      "Tarefa editada.\n",
      "Lista de Tarefas:\n",
      "2. Arrumar a mochila [x]\n",
      "1. Preparar a marmita [ ]\n",
      "3. Fechar as janelas à noite [ ]\n"
     ]
    }
   ],
   "source": [
    "class ToDoList:\n",
    "    def __init__(self):\n",
    "        self.tasks = []\n",
    "\n",
    "    def list_tasks(self):\n",
    "        print(\"Lista de Tarefas:\")\n",
    "        for task in self.tasks:\n",
    "            print(f\"{task['id']}. {task['description']} {task['status']}\")\n",
    "\n",
    "    def add_task(self, description):\n",
    "        if description[0].isupper():  # Garante que a descrição começa com maiúscula\n",
    "            new_task = {'id': len(self.tasks) + 1, 'description': description, 'status': '[ ]'}\n",
    "            self.tasks.append(new_task)\n",
    "            print(\"Tarefa registrada!!!\")\n",
    "        else:\n",
    "            print(\"A descrição deve começar com maiúscula.\")\n",
    "\n",
    "    def mark_done(self, task_id):\n",
    "        for task in self.tasks:\n",
    "            if task['id'] == task_id and task['status'] == '[ ]':\n",
    "                task['status'] = '[x]'\n",
    "                self.tasks.remove(task)\n",
    "                self.tasks.insert(0, task)\n",
    "                print(\"Tarefa marcada como realizada.\")\n",
    "                return\n",
    "        print(\"Tarefa não encontrada ou já foi realizada.\")\n",
    "\n",
    "    def edit_task(self, task_id, new_description):\n",
    "        for task in self.tasks:\n",
    "            if task['id'] == task_id:\n",
    "                task['description'] = new_description\n",
    "                print(\"Tarefa editada.\")\n",
    "                return\n",
    "        print(\"Tarefa não encontrada.\")\n",
    "\n",
    "# Exemplo de uso\n",
    "todo_list = ToDoList()\n",
    "\n",
    "# Registrar tarefas\n",
    "todo_list.add_task(\"Preparar a marmita\")\n",
    "todo_list.add_task(\"Arrumar a mochila\")\n",
    "todo_list.add_task(\"Fechar as janelas\")\n",
    "\n",
    "# Listar tarefas\n",
    "todo_list.list_tasks()\n",
    "\n",
    "# Marcar uma tarefa como realizada\n",
    "todo_list.mark_done(2)\n",
    "\n",
    "# Listar tarefas após marcação\n",
    "todo_list.list_tasks()\n",
    "\n",
    "# Editar uma tarefa\n",
    "todo_list.edit_task(3, \"Fechar as janelas à noite\")\n",
    "\n",
    "# Listar tarefas após edição\n",
    "todo_list.list_tasks()\n"
   ]
  }
 ],
 "metadata": {
  "kernelspec": {
   "display_name": "Python 3",
   "language": "python",
   "name": "python3"
  },
  "language_info": {
   "codemirror_mode": {
    "name": "ipython",
    "version": 3
   },
   "file_extension": ".py",
   "mimetype": "text/x-python",
   "name": "python",
   "nbconvert_exporter": "python",
   "pygments_lexer": "ipython3",
   "version": "3.12.0"
  }
 },
 "nbformat": 4,
 "nbformat_minor": 2
}
