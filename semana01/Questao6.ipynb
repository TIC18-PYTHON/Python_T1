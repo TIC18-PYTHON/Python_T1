{
 "cells": [
  {
   "cell_type": "code",
   "execution_count": null,
   "metadata": {},
   "outputs": [],
   "source": []
  },
  {
   "cell_type": "markdown",
   "metadata": {},
   "source": [
    "**Exercício 6: Manipulando listas**\n",
    "\n",
    "* Dado o seguinte código, e antes de implementar, veja o que será impresso em\n",
    "cada caso:\n",
    "\n",
    "<img src=\"Captura de tela 2023-11-13 163042.png\" height=\"400\" alt=\"estilo atividade\"  />\n",
    "\n",
    "* Uma forma simplificada de determinar o seu animal no zodiaco chines é\n",
    "apresentada na seguinte tabela:\n",
    "\n",
    "<img src=\"Captura de tela 2023-11-13 164007.png\" height=\"400\" alt=\"estilo atividade\"  />\n",
    "\n",
    "Descubra qual o signo de um usuário de acordo com seu ano de nascimento.\n",
    "Fechamento da atividade\n",
    "\n",
    "* Utilizem o fórum do Moodle para tirar suas dúvidas sobre as atividades e\n",
    "interagir entre os membros;\n",
    "* Garanta que seu repositório do GitHub esteja atualizado com todos os\n",
    "branch e versão final do branch principal.\n"
   ]
  },
  {
   "cell_type": "code",
   "execution_count": 2,
   "metadata": {},
   "outputs": [
    {
     "name": "stdout",
     "output_type": "stream",
     "text": [
      "[9, 8, 7, 6, 5, 4, 3, 2, 1]\n",
      "[9]\n",
      "[1, 2, 3, 4, 5, 6, 7, 8]\n",
      "[9, 7, 5, 3, 1]\n",
      "[8, 9]\n",
      "[1, 2, 3, 4, 5, 6, 7]\n"
     ]
    }
   ],
   "source": [
    "L = [1,2,3,4,5,6,7,8,9]\n",
    "print(L[::-1])\n",
    "print(L[-1::])\n",
    "print(L[:-1:])\n",
    "print(L[::-2])\n",
    "print(L[-2::])\n",
    "print(L[:-2:])"
   ]
  },
  {
   "cell_type": "code",
   "execution_count": 1,
   "metadata": {},
   "outputs": [
    {
     "name": "stdout",
     "output_type": "stream",
     "text": [
      "Você nasceu no ano do: Galo\n"
     ]
    }
   ],
   "source": [
    "L = [\"Macaco\",\"Galo\", \"Cão\", \"Porco\", \"Rato\", \"Boi\", \"Tigre\", \"Coelho\",\"Dragão\", \"Serpente\", \"Cavalo\", \"Carneiro\"]\n",
    "x = int(input(\"Digite o ano que você nasceu:\"))\n",
    "print(\"Você nasceu no ano do:\", L[x%12])\n",
    "\n"
   ]
  }
 ],
 "metadata": {
  "kernelspec": {
   "display_name": "base",
   "language": "python",
   "name": "python3"
  },
  "language_info": {
   "codemirror_mode": {
    "name": "ipython",
    "version": 3
   },
   "file_extension": ".py",
   "mimetype": "text/x-python",
   "name": "python",
   "nbconvert_exporter": "python",
   "pygments_lexer": "ipython3",
   "version": "3.11.5"
  }
 },
 "nbformat": 4,
 "nbformat_minor": 2
}
