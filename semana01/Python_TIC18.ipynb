{
 "cells": [
  {
   "cell_type": "code",
   "execution_count": null,
   "id": "f9879e71",
   "metadata": {},
   "outputs": [],
   "source": []
  },
  {
   "cell_type": "markdown",
   "id": "86fb170d",
   "metadata": {},
   "source": [
    "**Exercício 3: Manipulação de variáveis de tipo string e explorando o uso de print.**\n",
    "\n",
    "Os caracteres numéricos aparecem na tabela ASCII, e em outras, numa\n",
    "sequência que começa pelo caractere ‘0’ até o caractere ‘9’. As strings em\n",
    "Python são formadas por conjuntos de caracteres que podem ser tratadas\n",
    "também como valores numéricos. Com base nestas afirmações desenvolva\n",
    "um programa em Python que:\n",
    "Imprima na tela, utilizando print, cada um dos caracteres numéricos e\n",
    "seu correspondente código numérico. Pesquise como modificar o\n",
    "comportamento do print para imprimir como caractere e como\n",
    "número.\n",
    "Exemplo: ‘0’ - 48\n",
    "‘1’ - 49\n",
    "…\n",
    "‘9’ - 57\n",
    "\n",
    "Modifique o exercício anterior para que a saída imprima também o\n",
    "código numérico em octal e em hexadecimal.\n",
    "\n",
    "Acrescente ao código do exercício anterior a possibilidade de ler um\n",
    "caractere qualquer e imprima no mesmo formato do inciso anterior.\n",
    "Pesquise como ler um valor da entrada padrão.\n",
    "\n",
    "Pesquise como trabalha Python os caracteres especiais, ‘ç’ e ‘ã’\n",
    "por exemplo. Acrescente no código do exercício anterior um exemplo\n",
    "que demonstra como usar este recurso."
   ]
  },
  {
   "cell_type": "code",
   "execution_count": 2,
   "id": "a7969e8d",
   "metadata": {},
   "outputs": [
    {
     "name": "stdout",
     "output_type": "stream",
     "text": [
      "'0' - 48\n",
      "'1' - 49\n",
      "'2' - 50\n",
      "'3' - 51\n",
      "'4' - 52\n",
      "'5' - 53\n",
      "'6' - 54\n",
      "'7' - 55\n",
      "'8' - 56\n",
      "'9' - 57\n"
     ]
    }
   ],
   "source": [
    "for char in range(ord('0'), ord('9') + 1):\n",
    "    print(f'\\'{chr(char)}\\' - {char}')"
   ]
  },
  {
   "cell_type": "code",
   "execution_count": 3,
   "id": "b28d3401",
   "metadata": {},
   "outputs": [
    {
     "name": "stdout",
     "output_type": "stream",
     "text": [
      "'0' - Decimal: 48, Octal: 0o60, Hexadecimal: 0x30\n",
      "'1' - Decimal: 49, Octal: 0o61, Hexadecimal: 0x31\n",
      "'2' - Decimal: 50, Octal: 0o62, Hexadecimal: 0x32\n",
      "'3' - Decimal: 51, Octal: 0o63, Hexadecimal: 0x33\n",
      "'4' - Decimal: 52, Octal: 0o64, Hexadecimal: 0x34\n",
      "'5' - Decimal: 53, Octal: 0o65, Hexadecimal: 0x35\n",
      "'6' - Decimal: 54, Octal: 0o66, Hexadecimal: 0x36\n",
      "'7' - Decimal: 55, Octal: 0o67, Hexadecimal: 0x37\n",
      "'8' - Decimal: 56, Octal: 0o70, Hexadecimal: 0x38\n",
      "'9' - Decimal: 57, Octal: 0o71, Hexadecimal: 0x39\n"
     ]
    }
   ],
   "source": [
    "for char in range(ord('0'), ord('9') + 1):\n",
    "    print(f'\\'{chr(char)}\\' - Decimal: {char}, Octal: {oct(char)}, Hexadecimal: {hex(char)}')\n",
    "    "
   ]
  },
  {
   "cell_type": "code",
   "execution_count": 1,
   "id": "95c49cf6",
   "metadata": {},
   "outputs": [],
   "source": [
    "user_char = input(\"Digite um caractere: \")\n",
    "char_code = ord(user_char)\n",
    "print(f'\\'{user_char}\\' - Decimal: {char_code}, Octal: {oct(char_code)}, Hexadecimal: {hex(char_code)}')"
   ]
  },
  {
   "cell_type": "code",
   "execution_count": 1,
   "id": "f5b97e5a",
   "metadata": {},
   "outputs": [
    {
     "name": "stdout",
     "output_type": "stream",
     "text": [
      "Digite um caractere: i\n",
      "'i' - Decimal: 105, Octal: 0o151, Hexadecimal: 0x69\n",
      "'ç' - Decimal: 231, Octal: 0o347, Hexadecimal: 0xe7\n",
      "'ã' - Decimal: 227, Octal: 0o343, Hexadecimal: 0xe3\n"
     ]
    }
   ],
   "source": [
    "user_char = input(\"Digite um caractere: \")\n",
    "char_code = ord(user_char)\n",
    "print(f'\\'{user_char}\\' - Decimal: {char_code}, Octal: {oct(char_code)}, Hexadecimal: {hex(char_code)}')\n",
    "special_char1 = 'ç'\n",
    "special_char2 = 'ã'\n",
    "char1_code = ord(special_char1)\n",
    "char2_code = ord(special_char2)\n",
    "print(f'\\'{special_char1}\\' - Decimal: {char1_code}, Octal: {oct(char1_code)}, Hexadecimal: {hex(char1_code)}')\n",
    "print(f'\\'{special_char2}\\' - Decimal: {char2_code}, Octal: {oct(char2_code)}, Hexadecimal: {hex(char2_code)}')"
   ]
  },
  {
   "cell_type": "code",
   "execution_count": null,
   "id": "48b54f08",
   "metadata": {},
   "outputs": [],
   "source": []
  }
 ],
 "metadata": {
  "kernelspec": {
   "display_name": "Python 3 (ipykernel)",
   "language": "python",
   "name": "python3"
  },
  "language_info": {
   "codemirror_mode": {
    "name": "ipython",
    "version": 3
   },
   "file_extension": ".py",
   "mimetype": "text/x-python",
   "name": "python",
   "nbconvert_exporter": "python",
   "pygments_lexer": "ipython3",
   "version": "3.12.0"
  }
 },
 "nbformat": 4,
 "nbformat_minor": 5
}
