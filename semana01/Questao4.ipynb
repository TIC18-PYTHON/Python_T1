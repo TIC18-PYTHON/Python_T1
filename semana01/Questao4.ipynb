{
 "cells": [
  {
   "cell_type": "code",
   "execution_count": null,
   "metadata": {},
   "outputs": [],
   "source": []
  },
  {
   "cell_type": "markdown",
   "metadata": {},
   "source": [
    "**Exercício 4: Manipulação de variáveis de tipo string e explorando os métodos da classe.**\n",
    "\n",
    "As variáveis de tipo string possuem uma série de funcionalidades já\n",
    "implementadas e seus caracteres e substrings podem ser acessados usando\n",
    "indexação e slicing. Crie um exemplo onde:\n",
    "\n",
    "* Declare uma variável nome atribuindo a ela seu nome completo;\n",
    "* Pesquise por funcionalidades já implementadas nas strings e separe\n",
    "em duas variáveis novas seu nome do seu sobrenome;\n",
    "* Verifique qual das duas novas variáveis antecede a outra na ordem\n",
    "alfabética;\n",
    "* Verifique a quantidade de caracteres de cada uma das novas variáveis;\n",
    "* Verifique se seu nome é uma palíndromo;\n"
   ]
  },
  {
   "cell_type": "code",
   "execution_count": 25,
   "metadata": {},
   "outputs": [
    {
     "name": "stdout",
     "output_type": "stream",
     "text": [
      "Nome: Thiago Leite\n"
     ]
    }
   ],
   "source": [
    "NomeSobrenome = \"Thiago Leite\"\n",
    "print(\"Nome:\", NomeSobrenome)\n"
   ]
  },
  {
   "cell_type": "code",
   "execution_count": 26,
   "metadata": {},
   "outputs": [
    {
     "name": "stdout",
     "output_type": "stream",
     "text": [
      "Nome: Thiago\n",
      "Sobrenome: Leite\n"
     ]
    }
   ],
   "source": [
    "nome, sobrenome = NomeSobrenome.split()\n",
    "print(\"Nome:\", nome)\n",
    "print(\"Sobrenome:\", sobrenome) "
   ]
  },
  {
   "cell_type": "code",
   "execution_count": 27,
   "metadata": {},
   "outputs": [
    {
     "name": "stdout",
     "output_type": "stream",
     "text": [
      "Leite vem antes de Thiago na ordem alfabética.\n"
     ]
    }
   ],
   "source": [
    "if nome < sobrenome:\n",
    "    print(f\"{nome} vem antes de {sobrenome} na ordem alfabética.\")\n",
    "else:\n",
    "    print(f\"{sobrenome} vem antes de {nome} na ordem alfabética.\")"
   ]
  },
  {
   "cell_type": "code",
   "execution_count": 28,
   "metadata": {},
   "outputs": [
    {
     "name": "stdout",
     "output_type": "stream",
     "text": [
      "O nome tem 6 caracteres.\n",
      "O sobrenome tem 5 caracteres.\n"
     ]
    }
   ],
   "source": [
    "tamanho_nome = len(nome)\n",
    "tamanho_sobrenome = len(sobrenome)\n",
    "\n",
    "print(f\"O nome tem {tamanho_nome} caracteres.\")\n",
    "print(f\"O sobrenome tem {tamanho_sobrenome} caracteres.\")"
   ]
  },
  {
   "cell_type": "code",
   "execution_count": 29,
   "metadata": {},
   "outputs": [
    {
     "name": "stdout",
     "output_type": "stream",
     "text": [
      "Seu nome não é um palíndromo.\n"
     ]
    }
   ],
   "source": [
    "nome_invertido = nome .replace(\" \", \"\")[::-1]  \n",
    "palindromo = nome .replace(\" \", \"\").lower() == nome_invertido.replace(\" \", \"\").lower()\n",
    "\n",
    "if palindromo:\n",
    "    print(\"Seu nome é um palíndromo!\")\n",
    "else:\n",
    "    print(\"Seu nome não é um palíndromo.\")"
   ]
  }
 ],
 "metadata": {
  "kernelspec": {
   "display_name": "base",
   "language": "python",
   "name": "python3"
  },
  "language_info": {
   "codemirror_mode": {
    "name": "ipython",
    "version": 3
   },
   "file_extension": ".py",
   "mimetype": "text/x-python",
   "name": "python",
   "nbconvert_exporter": "python",
   "pygments_lexer": "ipython3",
   "version": "3.11.5"
  }
 },
 "nbformat": 4,
 "nbformat_minor": 2
}
