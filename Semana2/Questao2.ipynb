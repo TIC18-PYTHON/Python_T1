{
 "cells": [
  {
   "cell_type": "code",
   "execution_count": null,
   "id": "926460e7",
   "metadata": {},
   "outputs": [],
   "source": [
    "import csv\n",
    "\n",
    "# Nome do arquivo para armazenar as tarefas\n",
    "nome_arquivo = \"tarefas.csv\"\n",
    "\n",
    "def salvar_tarefas():\n",
    "    with open(nome_arquivo, mode='w', newline='') as arquivo_csv:\n",
    "        writer = csv.writer(arquivo_csv)\n",
    "        for tarefa in tarefas:\n",
    "            writer.writerow([tarefa['descricao'], tarefa['status']])\n",
    "\n",
    "def carregar_tarefas():\n",
    "    try:\n",
    "        with open(nome_arquivo, mode='r') as arquivo_csv:\n",
    "            reader = csv.reader(arquivo_csv)\n",
    "            for linha in reader:\n",
    "                descricao, status = linha\n",
    "                nova_tarefa = {\"descricao\": descricao, \"status\": status}\n",
    "                tarefas.append(nova_tarefa)\n",
    "    except FileNotFoundError:\n",
    "        pass  # Se o arquivo não existir, apenas continue com uma lista vazia\n",
    "\n"
   ]
  }
 ],
 "metadata": {
  "kernelspec": {
   "display_name": "Python 3 (ipykernel)",
   "language": "python",
   "name": "python3"
  },
  "language_info": {
   "codemirror_mode": {
    "name": "ipython",
    "version": 3
   },
   "file_extension": ".py",
   "mimetype": "text/x-python",
   "name": "python",
   "nbconvert_exporter": "python",
   "pygments_lexer": "ipython3",
   "version": "3.11.5"
  }
 },
 "nbformat": 4,
 "nbformat_minor": 5
}
