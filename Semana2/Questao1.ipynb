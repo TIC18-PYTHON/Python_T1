{
 "cells": [
  {
   "cell_type": "code",
   "execution_count": null,
   "id": "a3e7db0e",
   "metadata": {},
   "outputs": [],
   "source": [
    "tarefas = []\n",
    "\n",
    "def listar_tarefas():\n",
    "    print(\"Lista de Tarefas:\")\n",
    "    for i, tarefa in enumerate(tarefas, start=1):\n",
    "        print(f\"{i}. {tarefa['descricao']} {tarefa['status']}\")"
   ]
  },
  {
   "cell_type": "code",
   "execution_count": null,
   "id": "dd277760",
   "metadata": {},
   "outputs": [],
   "source": []
  }
 ],
 "metadata": {
  "kernelspec": {
   "display_name": "Python 3 (ipykernel)",
   "language": "python",
   "name": "python3"
  },
  "language_info": {
   "codemirror_mode": {
    "name": "ipython",
    "version": 3
   },
   "file_extension": ".py",
   "mimetype": "text/x-python",
   "name": "python",
   "nbconvert_exporter": "python",
   "pygments_lexer": "ipython3",
   "version": "3.11.5"
  }
 },
 "nbformat": 4,
 "nbformat_minor": 5
}
