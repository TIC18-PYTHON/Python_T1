{
 "cells": [
  {
   "cell_type": "code",
   "execution_count": null,
   "metadata": {},
   "outputs": [],
   "source": []
  },
  {
   "cell_type": "markdown",
   "metadata": {},
   "source": [
    "**Exercício 5: Manipulação de variáveis de ponto flutuante, explorando as\n",
    "características e os limites.**\n",
    "\n",
    " Durante a aula foi apresentado o tipo de dado que permite representar um\n",
    "subconjunto dos números de ponto flutuante. Sobre estes tipos de dados:\n",
    "\n",
    "* Demonstre como funcionam os operadores aritméticos e aritméticos\n",
    "compostos em Python;\n"
   ]
  },
  {
   "cell_type": "code",
   "execution_count": 2,
   "metadata": {},
   "outputs": [
    {
     "name": "stdout",
     "output_type": "stream",
     "text": [
      "Adição: 14\n",
      "Subtração: 6\n",
      "Multiplicação: 40\n",
      "Divisão: 2.5\n",
      "Divisão Inteira: 2\n",
      "Resto da Divisão: 2\n",
      "Exponenciação: 10000\n"
     ]
    }
   ],
   "source": [
    "# Operadores Aritméticos Básicos\n",
    "a = 10\n",
    "b = 4\n",
    "\n",
    "# Adição\n",
    "resultado_adicao = a + b\n",
    "print(\"Adição:\", resultado_adicao)\n",
    "\n",
    "# Subtração\n",
    "resultado_subtracao = a - b\n",
    "print(\"Subtração:\", resultado_subtracao)\n",
    "\n",
    "# Multiplicação\n",
    "resultado_multiplicacao = a * b\n",
    "print(\"Multiplicação:\", resultado_multiplicacao)\n",
    "\n",
    "# Divisão\n",
    "resultado_divisao = a / b\n",
    "print(\"Divisão:\", resultado_divisao)\n",
    "\n",
    "# Divisão Inteira\n",
    "resultado_divisao_inteira = a // b\n",
    "print(\"Divisão Inteira:\", resultado_divisao_inteira)\n",
    "\n",
    "# Resto da Divisão\n",
    "resultado_resto = a % b\n",
    "print(\"Resto da Divisão:\", resultado_resto)\n",
    "\n",
    "# Exponenciação\n",
    "resultado_exponenciacao = a ** b\n",
    "print(\"Exponenciação:\", resultado_exponenciacao)\n"
   ]
  },
  {
   "cell_type": "code",
   "execution_count": 3,
   "metadata": {},
   "outputs": [
    {
     "name": "stdout",
     "output_type": "stream",
     "text": [
      "Adição e Atribuição: 14\n",
      "Subtração e Atribuição: 10\n",
      "Multiplicação e Atribuição: 40\n",
      "Divisão e Atribuição: 10.0\n",
      "Divisão Inteira e Atribuição: 2.0\n",
      "Resto da Divisão e Atribuição: 2.0\n",
      "Exponenciação e Atribuição: 16.0\n"
     ]
    }
   ],
   "source": [
    "# Operadores Aritméticos Compostos\n",
    "a = 10\n",
    "b = 4\n",
    "\n",
    "# Adição e Atribuição\n",
    "a += b\n",
    "print(\"Adição e Atribuição:\", a)\n",
    "\n",
    "# Subtração e Atribuição\n",
    "a -= b\n",
    "print(\"Subtração e Atribuição:\", a)\n",
    "\n",
    "# Multiplicação e Atribuição\n",
    "a *= b\n",
    "print(\"Multiplicação e Atribuição:\", a)\n",
    "\n",
    "# Divisão e Atribuição\n",
    "a /= b\n",
    "print(\"Divisão e Atribuição:\", a)\n",
    "\n",
    "# Divisão Inteira e Atribuição\n",
    "a //= b\n",
    "print(\"Divisão Inteira e Atribuição:\", a)\n",
    "\n",
    "# Resto da Divisão e Atribuição\n",
    "a %= b\n",
    "print(\"Resto da Divisão e Atribuição:\", a)\n",
    "\n",
    "# Exponenciação e Atribuição\n",
    "a **= b\n",
    "print(\"Exponenciação e Atribuição:\", a)\n"
   ]
  },
  {
   "cell_type": "markdown",
   "metadata": {},
   "source": [
    "* Utilizando o operador de exponenciação mostre qual a maior e a\n",
    "menor potência de 2 que pode ser representada com variáveis de\n",
    "ponto flutuante."
   ]
  },
  {
   "cell_type": "code",
   "execution_count": 4,
   "metadata": {},
   "outputs": [
    {
     "name": "stdout",
     "output_type": "stream",
     "text": [
      "A maior potência de 2: 2^308 = 5.2148120994162844e+92\n",
      "A menor potência de 2: 2^-307 = 3.835229269763849e-93\n"
     ]
    }
   ],
   "source": [
    "import sys\n",
    "\n",
    "# Encontrar a maior potência de 2\n",
    "maior_potencia = sys.float_info.max_10_exp\n",
    "\n",
    "# Encontrar a menor potência de 2\n",
    "menor_potencia = sys.float_info.min_10_exp\n",
    "\n",
    "# Calcular os valores correspondentes\n",
    "maior_valor = 2.0 ** maior_potencia\n",
    "menor_valor = 2.0 ** menor_potencia\n",
    "\n",
    "# Exibir os resultados\n",
    "print(f\"A maior potência de 2: 2^{maior_potencia} = {maior_valor}\")\n",
    "print(f\"A menor potência de 2: 2^{menor_potencia} = {menor_valor}\")\n",
    "\n"
   ]
  },
  {
   "cell_type": "markdown",
   "metadata": {},
   "source": [
    "* As variáveis numéricas são imutáveis. Demonstre com exemplos as\n",
    "implicações desta afirmação;"
   ]
  },
  {
   "cell_type": "code",
   "execution_count": 5,
   "metadata": {},
   "outputs": [
    {
     "name": "stdout",
     "output_type": "stream",
     "text": [
      "Variáveis Numéricas:\n",
      "x: 5\n",
      "y: 7\n",
      "\n",
      "Strings:\n",
      "texto: Olá, Residente!\n",
      "novo_texto: Olá, Residente! Python\n",
      "\n",
      "Listas:\n",
      "lista: [1, 4, 3]\n"
     ]
    }
   ],
   "source": [
    "# Exemplo de Imutabilidade e Mutabilidade em Python\n",
    "\n",
    "# Variáveis numéricas são imutáveis\n",
    "x = 5\n",
    "y = x  # y recebe o valor de x\n",
    "y = y + 2\n",
    "\n",
    "print(\"Variáveis Numéricas:\")\n",
    "print(\"x:\", x)  # Saída: 5 (o valor de x não foi modificado)\n",
    "print(\"y:\", y)  # Saída: 7 (uma nova variável y foi criada com o resultado da operação)\n",
    "\n",
    "# Strings são imutáveis\n",
    "texto = \"Olá, Residente!\"\n",
    "novo_texto = texto + \" Python\"\n",
    "\n",
    "print(\"\\nStrings:\")\n",
    "print(\"texto:\", texto)         # Saída: \"Olá, mundo!\" (o valor original não foi modificado)\n",
    "print(\"novo_texto:\", novo_texto)  # Saída: \"Olá, mundo! Python\" (nova string criada pela concatenação)\n",
    "\n",
    "# Listas são mutáveis\n",
    "lista = [1, 2, 3]\n",
    "lista[1] = 4\n",
    "\n",
    "print(\"\\nListas:\")\n",
    "print(\"lista:\", lista)  # Saída: [1, 4, 3] (a lista original foi modificada)\n"
   ]
  }
 ],
 "metadata": {
  "kernelspec": {
   "display_name": "Python 3",
   "language": "python",
   "name": "python3"
  },
  "language_info": {
   "codemirror_mode": {
    "name": "ipython",
    "version": 3
   },
   "file_extension": ".py",
   "mimetype": "text/x-python",
   "name": "python",
   "nbconvert_exporter": "python",
   "pygments_lexer": "ipython3",
   "version": "3.12.0"
  }
 },
 "nbformat": 4,
 "nbformat_minor": 2
}
